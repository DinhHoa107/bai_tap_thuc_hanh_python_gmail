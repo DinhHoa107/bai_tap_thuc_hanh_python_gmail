{
 "cells": [
  {
   "cell_type": "code",
   "execution_count": null,
   "metadata": {},
   "outputs": [
    {
     "ename": "",
     "evalue": "",
     "output_type": "error",
     "traceback": [
      "\u001b[1;31mThe kernel failed to start due to the missing module 'email.utils'. Consider installing this module.\n",
      "\u001b[1;31mClick <a href='https://aka.ms/kernelFailuresMissingModule'>here</a> for more info."
     ]
    }
   ],
   "source": [
    "import smtplib\n",
    "import imaplib\n",
    "import email\n",
    "from email.mime.text import MIMEText\n",
    "\n",
    "# Đọc dữ liệu từ tệp\n",
    "with open('email_credentials.txt', 'r') as f:\n",
    "    lines = f.readlines()\n",
    "    sender_email = lines[0].strip()\n",
    "    app_password = lines[1].strip()\n",
    "\n",
    "with open('recipient.txt', 'r') as f:\n",
    "    recipient_email = f.read().strip()\n",
    "\n",
    "with open('email_content.txt', 'r', encoding='utf-8') as f:\n",
    "    content = f.read()\n",
    "\n",
    "with open('email_filter.txt', 'r') as f:\n",
    "    filter_sender = f.read().strip()\n",
    "\n",
    "# Gửi email\n",
    "msg = MIMEText(content)\n",
    "msg['Subject'] = 'Thử nghiệm gửi email từ Python'\n",
    "msg['From'] = sender_email\n",
    "msg['To'] = recipient_email\n",
    "\n",
    "with smtplib.SMTP('smtp.gmail.com', 587) as server:\n",
    "    server.starttls()\n",
    "    server.login(sender_email, app_password)\n",
    "    server.send_message(msg)\n",
    "    print(\"✅ Email đã được gửi đến\", recipient_email)\n",
    "\n",
    "# Nhận email\n",
    "with imaplib.IMAP4_SSL('imap.gmail.com') as mail:\n",
    "    mail.login(sender_email, app_password)\n",
    "    mail.select('inbox')\n",
    "    result, data = mail.search(None, f'FROM \"{filter_sender}\"')\n",
    "    ids = data[0].split()\n",
    "\n",
    "    if ids:\n",
    "        latest_email_id = ids[-1]\n",
    "        result, msg_data = mail.fetch(latest_email_id, '(RFC822)')\n",
    "        raw_email = msg_data[0][1]\n",
    "        msg = email.message_from_bytes(raw_email)\n",
    "        print(\"📥 Đã nhận được email:\")\n",
    "        print(\"Tiêu đề:\", msg['Subject'])\n",
    "\n",
    "        if msg.is_multipart():\n",
    "            for part in msg.walk():\n",
    "                if part.get_content_type() == 'text/plain':\n",
    "                    print(\"Nội dung:\", part.get_payload(decode=True).decode())\n",
    "                    break\n",
    "        else:\n",
    "            print(\"Nội dung:\", msg.get_payload(decode=True).decode())\n",
    "    else:\n",
    "        print(\"❌ Không có email nào phù hợp.\")\n"
   ]
  }
 ],
 "metadata": {
  "kernelspec": {
   "display_name": "base",
   "language": "python",
   "name": "python3"
  },
  "language_info": {
   "name": "python",
   "version": "3.12.7"
  }
 },
 "nbformat": 4,
 "nbformat_minor": 2
}
